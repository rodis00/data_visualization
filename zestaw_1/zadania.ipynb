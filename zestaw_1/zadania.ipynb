{
 "cells": [
  {
   "cell_type": "code",
   "execution_count": 1,
   "id": "e422b830-a485-4015-a4e3-714cff2a9204",
   "metadata": {},
   "outputs": [],
   "source": [
    "import math\n",
    "from math import sqrt\n",
    "import pandas as pd\n",
    "import numpy as np\n",
    "import matplotlib.pyplot as plt"
   ]
  },
  {
   "cell_type": "markdown",
   "id": "633a4a49-ff15-44c5-8153-02d013b1d8d6",
   "metadata": {},
   "source": [
    "<br></br>"
   ]
  },
  {
   "cell_type": "code",
   "execution_count": 2,
   "id": "574398f2-2a31-47c3-b15a-a41f49b8d742",
   "metadata": {},
   "outputs": [],
   "source": [
    "### zad_1\n",
    "### ax^2 + bx + c"
   ]
  },
  {
   "cell_type": "code",
   "execution_count": 3,
   "id": "5d9857fd-3655-4a73-9faf-bda9596642ce",
   "metadata": {},
   "outputs": [],
   "source": [
    "def foo(a, b, c):\n",
    "    delta = b ** 2 - 4 * a * c\n",
    "    if delta < 0:\n",
    "        print('delta ujemna brak rozwiązań')\n",
    "    elif delta == 0:\n",
    "        x1 = ((-1 * b) - sqrt(delta)) / (2 * a)\n",
    "        print(f'x = {x1}')\n",
    "    else:\n",
    "        x1 = ((-1 * b) - sqrt(delta)) / (2 * a)\n",
    "        x2 = ((-1 * b) + sqrt(delta)) / (2 * a)\n",
    "        print(f'x1 = {x1}\\nx2 = {x2}')"
   ]
  },
  {
   "cell_type": "code",
   "execution_count": 4,
   "id": "12d96d57-2dbc-461f-97af-54d58bcd1163",
   "metadata": {},
   "outputs": [
    {
     "name": "stdout",
     "output_type": "stream",
     "text": [
      "podaj wartości wielomianu ax^2 + bx + c\n"
     ]
    },
    {
     "name": "stdin",
     "output_type": "stream",
     "text": [
      "a =  10\n",
      "b =  24\n",
      "c =  5\n"
     ]
    },
    {
     "name": "stdout",
     "output_type": "stream",
     "text": [
      "x1 = -2.169535971483266\n",
      "x2 = -0.23046402851673414\n"
     ]
    }
   ],
   "source": [
    "print('podaj wartości wielomianu ax^2 + bx + c')\n",
    "a = int(input('a = '))\n",
    "b = int(input('b = '))\n",
    "c = int(input('c = '))\n",
    "\n",
    "foo(a, b, c)"
   ]
  },
  {
   "cell_type": "markdown",
   "id": "f82c0973-4127-4986-8786-de2ea811e26f",
   "metadata": {},
   "source": [
    "<br></br>"
   ]
  },
  {
   "cell_type": "code",
   "execution_count": 5,
   "id": "2430965b-db32-4ab8-9d19-21e6c8447aef",
   "metadata": {},
   "outputs": [],
   "source": [
    "### zad_2"
   ]
  },
  {
   "cell_type": "code",
   "execution_count": 6,
   "id": "d1bfa03e-a42d-4687-940f-caeb53c76c25",
   "metadata": {},
   "outputs": [],
   "source": [
    "class Kolo:\n",
    "    promien = 0\n",
    "\n",
    "    def __init__(self, r):\n",
    "        self.promien = r\n",
    "\n",
    "    def pole(self):\n",
    "        return self.promien ** 2 * math.pi"
   ]
  },
  {
   "cell_type": "code",
   "execution_count": 7,
   "id": "cfd3830e-ae59-4e51-966e-03af2433cec0",
   "metadata": {},
   "outputs": [],
   "source": [
    "k1 = Kolo(2)\n",
    "k2 = Kolo(10)"
   ]
  },
  {
   "cell_type": "code",
   "execution_count": 8,
   "id": "b3787aa6-98eb-4598-8202-b2de0aee94de",
   "metadata": {},
   "outputs": [
    {
     "data": {
      "text/plain": [
       "12.566370614359172"
      ]
     },
     "execution_count": 8,
     "metadata": {},
     "output_type": "execute_result"
    }
   ],
   "source": [
    "k1.pole()"
   ]
  },
  {
   "cell_type": "code",
   "execution_count": 9,
   "id": "f9bdfb30-f57c-4fdd-bca4-44c80265482f",
   "metadata": {},
   "outputs": [
    {
     "data": {
      "text/plain": [
       "314.1592653589793"
      ]
     },
     "execution_count": 9,
     "metadata": {},
     "output_type": "execute_result"
    }
   ],
   "source": [
    "k2.pole()"
   ]
  },
  {
   "cell_type": "markdown",
   "id": "993e6de0-ec48-4725-b582-7bf2192320fd",
   "metadata": {},
   "source": [
    "<br></br>"
   ]
  },
  {
   "cell_type": "code",
   "execution_count": 10,
   "id": "1dc58f17-e16b-4804-8b87-631cfebfb709",
   "metadata": {},
   "outputs": [],
   "source": [
    "### zad_3"
   ]
  },
  {
   "cell_type": "code",
   "execution_count": 11,
   "id": "129345a5-fd6e-4621-8ab4-30c76f58ade2",
   "metadata": {},
   "outputs": [],
   "source": [
    "def change(napis):\n",
    "    return napis[:: -1]"
   ]
  },
  {
   "cell_type": "code",
   "execution_count": 12,
   "id": "4178d7df-2de4-4812-9c2b-2b7e73448d00",
   "metadata": {},
   "outputs": [
    {
     "name": "stdin",
     "output_type": "stream",
     "text": [
      "podaj napis:  napis do odwrócenia\n"
     ]
    },
    {
     "data": {
      "text/plain": [
       "'ainecórwdo od sipan'"
      ]
     },
     "execution_count": 12,
     "metadata": {},
     "output_type": "execute_result"
    }
   ],
   "source": [
    "napis = input('podaj napis: ')\n",
    "change(napis)"
   ]
  },
  {
   "cell_type": "markdown",
   "id": "92f68ae3-4079-46df-b126-9948089cfb0d",
   "metadata": {},
   "source": [
    "<br></br>"
   ]
  },
  {
   "cell_type": "code",
   "execution_count": 13,
   "id": "5214fffe-94d7-4e5f-a48e-e7d54c8b762c",
   "metadata": {},
   "outputs": [],
   "source": [
    "### zad_4"
   ]
  },
  {
   "cell_type": "code",
   "execution_count": 14,
   "id": "4432244d-0254-4e1a-9b40-a2d62cb4f087",
   "metadata": {},
   "outputs": [],
   "source": [
    "df = pd.read_csv('sport.csv', header=None, sep=';')\n",
    "\n",
    "sports = df[0]\n",
    "values = df[1]"
   ]
  },
  {
   "cell_type": "code",
   "execution_count": 15,
   "id": "52fb6bdc-5b06-4d30-a3e5-4c0d867bb534",
   "metadata": {},
   "outputs": [
    {
     "data": {
      "image/png": "[encoded data removed]",
      "text/plain": [
       "<Figure size 640x480 with 1 Axes>"
      ]
     },
     "metadata": {},
     "output_type": "display_data"
    }
   ],
   "source": [
    "plt.pie(values, labels=sports, autopct='%.0f%%', explode=(0.1, 0, 0, 0, 0, 0))\n",
    "plt.title('Wykres zainteresowania sportami')\n",
    "plt.text(-2.2, 1.5, '123456')\n",
    "#plt.savefig('sport.pdf')\n",
    "plt.show()"
   ]
  },
  {
   "cell_type": "markdown",
   "id": "2f0fb0b9-b79a-42f5-9c64-d2ce364b1b47",
   "metadata": {},
   "source": [
    "<br></br>"
   ]
  },
  {
   "cell_type": "code",
   "execution_count": 16,
   "id": "d5bb2dc9-b84d-413a-9f65-fdc251ff7c41",
   "metadata": {},
   "outputs": [],
   "source": [
    "### zad_5"
   ]
  },
  {
   "cell_type": "code",
   "execution_count": 17,
   "id": "58338e0d-3c50-43e4-a0bf-95847524bec2",
   "metadata": {},
   "outputs": [],
   "source": [
    "df = pd.read_csv('wyksz.csv')\n",
    "\n",
    "wyzsze = df[df['Wykształcenie'] == 'wyższe']\n",
    "srednie = df[df['Wykształcenie'] == 'średnie']\n",
    "podstawowe = df[df['Wykształcenie'] == 'podstawowe']"
   ]
  },
  {
   "cell_type": "code",
   "execution_count": 18,
   "id": "d67f9ede-65c3-4568-9739-5767aa7e0fd6",
   "metadata": {},
   "outputs": [
    {
     "data": {
      "text/html": [
       "<div>\n",
       "<style scoped>\n",
       "    .dataframe tbody tr th:only-of-type {\n",
       "        vertical-align: middle;\n",
       "    }\n",
       "\n",
       "    .dataframe tbody tr th {\n",
       "        vertical-align: top;\n",
       "    }\n",
       "\n",
       "    .dataframe thead th {\n",
       "        text-align: right;\n",
       "    }\n",
       "</style>\n",
       "<table border=\"1\" class=\"dataframe\">\n",
       "  <thead>\n",
       "    <tr style=\"text-align: right;\">\n",
       "      <th></th>\n",
       "      <th>Wiek</th>\n",
       "      <th>Wykształcenie</th>\n",
       "      <th>Liczebność</th>\n",
       "    </tr>\n",
       "  </thead>\n",
       "  <tbody>\n",
       "    <tr>\n",
       "      <th>0</th>\n",
       "      <td>13-19</td>\n",
       "      <td>wyższe</td>\n",
       "      <td>0</td>\n",
       "    </tr>\n",
       "    <tr>\n",
       "      <th>6</th>\n",
       "      <td>20-24</td>\n",
       "      <td>wyższe</td>\n",
       "      <td>193005</td>\n",
       "    </tr>\n",
       "    <tr>\n",
       "      <th>12</th>\n",
       "      <td>25-29</td>\n",
       "      <td>wyższe</td>\n",
       "      <td>597528</td>\n",
       "    </tr>\n",
       "  </tbody>\n",
       "</table>\n",
       "</div>"
      ],
      "text/plain": [
       "     Wiek Wykształcenie  Liczebność\n",
       "0   13-19        wyższe           0\n",
       "6   20-24        wyższe      193005\n",
       "12  25-29        wyższe      597528"
      ]
     },
     "execution_count": 18,
     "metadata": {},
     "output_type": "execute_result"
    }
   ],
   "source": [
    "wyzsze"
   ]
  },
  {
   "cell_type": "code",
   "execution_count": 19,
   "id": "9d0dfdb5-ef0e-4b5d-b455-1bd015864481",
   "metadata": {},
   "outputs": [
    {
     "data": {
      "text/html": [
       "<div>\n",
       "<style scoped>\n",
       "    .dataframe tbody tr th:only-of-type {\n",
       "        vertical-align: middle;\n",
       "    }\n",
       "\n",
       "    .dataframe tbody tr th {\n",
       "        vertical-align: top;\n",
       "    }\n",
       "\n",
       "    .dataframe thead th {\n",
       "        text-align: right;\n",
       "    }\n",
       "</style>\n",
       "<table border=\"1\" class=\"dataframe\">\n",
       "  <thead>\n",
       "    <tr style=\"text-align: right;\">\n",
       "      <th></th>\n",
       "      <th>Wiek</th>\n",
       "      <th>Wykształcenie</th>\n",
       "      <th>Liczebność</th>\n",
       "    </tr>\n",
       "  </thead>\n",
       "  <tbody>\n",
       "    <tr>\n",
       "      <th>2</th>\n",
       "      <td>13-19</td>\n",
       "      <td>średnie</td>\n",
       "      <td>403364</td>\n",
       "    </tr>\n",
       "    <tr>\n",
       "      <th>8</th>\n",
       "      <td>20-24</td>\n",
       "      <td>średnie</td>\n",
       "      <td>1717869</td>\n",
       "    </tr>\n",
       "    <tr>\n",
       "      <th>14</th>\n",
       "      <td>25-29</td>\n",
       "      <td>średnie</td>\n",
       "      <td>964156</td>\n",
       "    </tr>\n",
       "  </tbody>\n",
       "</table>\n",
       "</div>"
      ],
      "text/plain": [
       "     Wiek Wykształcenie  Liczebność\n",
       "2   13-19       średnie      403364\n",
       "8   20-24       średnie     1717869\n",
       "14  25-29       średnie      964156"
      ]
     },
     "execution_count": 19,
     "metadata": {},
     "output_type": "execute_result"
    }
   ],
   "source": [
    "srednie"
   ]
  },
  {
   "cell_type": "code",
   "execution_count": 20,
   "id": "f84a5ee7-ebd8-478d-828a-aaec4db17626",
   "metadata": {},
   "outputs": [
    {
     "data": {
      "text/html": [
       "<div>\n",
       "<style scoped>\n",
       "    .dataframe tbody tr th:only-of-type {\n",
       "        vertical-align: middle;\n",
       "    }\n",
       "\n",
       "    .dataframe tbody tr th {\n",
       "        vertical-align: top;\n",
       "    }\n",
       "\n",
       "    .dataframe thead th {\n",
       "        text-align: right;\n",
       "    }\n",
       "</style>\n",
       "<table border=\"1\" class=\"dataframe\">\n",
       "  <thead>\n",
       "    <tr style=\"text-align: right;\">\n",
       "      <th></th>\n",
       "      <th>Wiek</th>\n",
       "      <th>Wykształcenie</th>\n",
       "      <th>Liczebność</th>\n",
       "    </tr>\n",
       "  </thead>\n",
       "  <tbody>\n",
       "    <tr>\n",
       "      <th>4</th>\n",
       "      <td>13-19</td>\n",
       "      <td>podstawowe</td>\n",
       "      <td>3259088</td>\n",
       "    </tr>\n",
       "    <tr>\n",
       "      <th>10</th>\n",
       "      <td>20-24</td>\n",
       "      <td>podstawowe</td>\n",
       "      <td>299272</td>\n",
       "    </tr>\n",
       "    <tr>\n",
       "      <th>16</th>\n",
       "      <td>25-29</td>\n",
       "      <td>podstawowe</td>\n",
       "      <td>258912</td>\n",
       "    </tr>\n",
       "  </tbody>\n",
       "</table>\n",
       "</div>"
      ],
      "text/plain": [
       "     Wiek Wykształcenie  Liczebność\n",
       "4   13-19    podstawowe     3259088\n",
       "10  20-24    podstawowe      299272\n",
       "16  25-29    podstawowe      258912"
      ]
     },
     "execution_count": 20,
     "metadata": {},
     "output_type": "execute_result"
    }
   ],
   "source": [
    "podstawowe"
   ]
  },
  {
   "cell_type": "code",
   "execution_count": 21,
   "id": "aa552a10-1fe5-42a6-840e-d2bfba82ce74",
   "metadata": {},
   "outputs": [
    {
     "data": {
      "image/png": "[encoded data removed]",
      "text/plain": [
       "<Figure size 800x500 with 1 Axes>"
      ]
     },
     "metadata": {},
     "output_type": "display_data"
    }
   ],
   "source": [
    "x = np.arange(3)\n",
    "plt.figure(figsize=(8, 5))\n",
    "plt.title(\"Wykształcenie a wiek\")\n",
    "plt.bar(x, wyzsze[\"Liczebność\"], width=0.25, label=\"wyższe\", color=\"blue\")\n",
    "plt.bar(x + 0.25, srednie[\"Liczebność\"], width=0.25, label=\"srednie\", color=\"green\")\n",
    "plt.bar(x + 0.5, podstawowe[\"Liczebność\"], width=0.25, label=\"podstawowe\", color=\"brown\")\n",
    "plt.xticks([0.25, 1.25, 2.25], wyzsze[\"Wiek\"])\n",
    "plt.xlabel(\"Przedział wiekowy\")\n",
    "plt.ylabel(\"Liczebność\")\n",
    "plt.legend(loc=\"right\")\n",
    "plt.ticklabel_format(axis='y', style='plain')\n",
    "plt.show()"
   ]
  },
  {
   "cell_type": "code",
   "execution_count": null,
   "id": "7bef4fa4-59bc-4cbb-a320-5f51295e1b1f",
   "metadata": {},
   "outputs": [],
   "source": []
  }
 ],
 "metadata": {
  "kernelspec": {
   "display_name": "Python 3 (ipykernel)",
   "language": "python",
   "name": "python3"
  },
  "language_info": {
   "codemirror_mode": {
    "name": "ipython",
    "version": 3
   },
   "file_extension": ".py",
   "mimetype": "text/x-python",
   "name": "python",
   "nbconvert_exporter": "python",
   "pygments_lexer": "ipython3",
   "version": "3.12.6"
  }
 },
 "nbformat": 4,
 "nbformat_minor": 5
}
