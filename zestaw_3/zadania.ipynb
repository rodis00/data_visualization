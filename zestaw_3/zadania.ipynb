{
 "cells": [
  {
   "cell_type": "code",
   "execution_count": 1,
   "id": "541c9c70-9848-42d7-aeda-6296d17d021f",
   "metadata": {},
   "outputs": [],
   "source": [
    "### zad_1"
   ]
  },
  {
   "cell_type": "code",
   "execution_count": 2,
   "id": "fdafcea6-6acf-4df0-9c66-724f2e45920b",
   "metadata": {},
   "outputs": [],
   "source": [
    "class Calculator:\n",
    "    def __init__(self, var1, var2):\n",
    "        self.var1 = var1\n",
    "        self.var2 = var2\n",
    "\n",
    "    def calculate_power(self):\n",
    "        return self.var1 ** self.var2\n",
    "\n",
    "    def calculate_sum(self, var3):\n",
    "        return self.var1 + self.var2 + var3"
   ]
  },
  {
   "cell_type": "code",
   "execution_count": 3,
   "id": "3a13daef-a441-4e48-bfd9-1633dcf52ac2",
   "metadata": {},
   "outputs": [],
   "source": [
    "calc = Calculator(2, 3)"
   ]
  },
  {
   "cell_type": "code",
   "execution_count": 4,
   "id": "9aa470e4-ca67-4a1b-be0d-b3e7dd754d32",
   "metadata": {},
   "outputs": [
    {
     "data": {
      "text/plain": [
       "True"
      ]
     },
     "execution_count": 4,
     "metadata": {},
     "output_type": "execute_result"
    }
   ],
   "source": [
    "calc.calculate_power() == 8"
   ]
  },
  {
   "cell_type": "code",
   "execution_count": 5,
   "id": "dbbd5602-d30f-427f-ac37-9f876eebef34",
   "metadata": {},
   "outputs": [
    {
     "data": {
      "text/plain": [
       "True"
      ]
     },
     "execution_count": 5,
     "metadata": {},
     "output_type": "execute_result"
    }
   ],
   "source": [
    "calc.calculate_sum(4) == 9"
   ]
  },
  {
   "cell_type": "markdown",
   "id": "ac4d9ed3-97e3-4d8e-bebe-bfadb2bd002e",
   "metadata": {},
   "source": [
    "<br></br>"
   ]
  },
  {
   "cell_type": "code",
   "execution_count": 6,
   "id": "b0f957f2-44b9-4bf6-b61c-c12d8757c9ac",
   "metadata": {},
   "outputs": [],
   "source": [
    "### zad_2"
   ]
  },
  {
   "cell_type": "code",
   "execution_count": 7,
   "id": "ea8e2447-0f84-465c-8868-252c28eefaa2",
   "metadata": {},
   "outputs": [],
   "source": [
    "import math"
   ]
  },
  {
   "cell_type": "code",
   "execution_count": 8,
   "id": "017e552c-082c-4f88-bf89-b2f35f9e92e1",
   "metadata": {},
   "outputs": [
    {
     "name": "stdin",
     "output_type": "stream",
     "text": [
      "podaj a:  5.4\n",
      "podaj b:  3.3\n",
      "podaj c:  2.22\n"
     ]
    }
   ],
   "source": [
    "a = float(input('podaj a: '))\n",
    "b = float(input('podaj b: '))\n",
    "c = float(input('podaj c: '))\n",
    "\n",
    "op1 = (a ** 2 + math.sin(b)) / math.e ** c\n",
    "op2 = math.atan(b ** (c ** 2))\n",
    "op3 = math.log(c, a)"
   ]
  },
  {
   "cell_type": "code",
   "execution_count": 9,
   "id": "089764a5-cae2-4910-bf8d-c8bad01130ea",
   "metadata": {},
   "outputs": [
    {
     "data": {
      "text/plain": [
       "(3.1499089940739022, 1.5680130603916513, 0.47290541434208533)"
      ]
     },
     "execution_count": 9,
     "metadata": {},
     "output_type": "execute_result"
    }
   ],
   "source": [
    "op1, op2, op3"
   ]
  },
  {
   "cell_type": "markdown",
   "id": "6a0b41cc-2f7e-4c25-9d00-0de2511c3022",
   "metadata": {},
   "source": [
    "<br></br>"
   ]
  },
  {
   "cell_type": "code",
   "execution_count": 10,
   "id": "a1fdebfe-eefb-412b-a246-089128a2b3ea",
   "metadata": {},
   "outputs": [],
   "source": [
    "### zad_3"
   ]
  },
  {
   "cell_type": "code",
   "execution_count": 11,
   "id": "162bdb71-73ea-428f-8f06-7159585275ff",
   "metadata": {},
   "outputs": [],
   "source": [
    "def foo(text):\n",
    "    l_liter = 0\n",
    "    l_wyrazow = 1\n",
    "    srednia = 0\n",
    "    for i in text:\n",
    "        if i == ' ':\n",
    "            l_wyrazow += 1\n",
    "            continue\n",
    "        else:\n",
    "            l_liter += 1\n",
    "\n",
    "    srednia = round(l_liter / l_wyrazow)\n",
    "    print('liczba liter: '+str(l_liter) + '\\nliczba wyrazow: '+str(l_wyrazow) + '\\nsrednia dlugosc: ' + str(srednia) + '\\n')"
   ]
  },
  {
   "cell_type": "code",
   "execution_count": 12,
   "id": "9b25bfff-3b64-4ec8-8f40-cd495e46a3f8",
   "metadata": {},
   "outputs": [],
   "source": [
    "def foo2(text):\n",
    "    dlugosci = [len(x) for x in text.split()]\n",
    "    srednia = round(sum(dlugosci) / len(dlugosci))\n",
    "\n",
    "    text_split = text.split()\n",
    "    print(f'text: {text}\\ntext_split: {text_split}\\ndlugosci: {dlugosci}\\nsrednia: {srednia}\\n')"
   ]
  },
  {
   "cell_type": "code",
   "execution_count": 13,
   "id": "367b567c-fcc6-410e-99fe-aec59fb43cdb",
   "metadata": {},
   "outputs": [
    {
     "name": "stdout",
     "output_type": "stream",
     "text": [
      "liczba liter: 9\n",
      "liczba wyrazow: 3\n",
      "srednia dlugosc: 3\n",
      "\n",
      "liczba liter: 18\n",
      "liczba wyrazow: 4\n",
      "srednia dlugosc: 4\n",
      "\n",
      "liczba liter: 22\n",
      "liczba wyrazow: 5\n",
      "srednia dlugosc: 4\n",
      "\n"
     ]
    },
    {
     "data": {
      "text/plain": [
       "(None, None, None)"
      ]
     },
     "execution_count": 13,
     "metadata": {},
     "output_type": "execute_result"
    }
   ],
   "source": [
    "zd1 = \"Ala ma kota\"\n",
    "zd2 = \"Wlazł kotek na płotek\"\n",
    "zd3 = \"Lorem ipsum dolor sit amet\"\n",
    "\n",
    "foo(zd1), foo(zd2), foo(zd3)"
   ]
  },
  {
   "cell_type": "code",
   "execution_count": 14,
   "id": "c7b051db-46ad-497a-966d-3a9e995d26d4",
   "metadata": {},
   "outputs": [
    {
     "name": "stdout",
     "output_type": "stream",
     "text": [
      "text: Ala ma kota\n",
      "text_split: ['Ala', 'ma', 'kota']\n",
      "dlugosci: [3, 2, 4]\n",
      "srednia: 3\n",
      "\n",
      "text: Wlazł kotek na płotek\n",
      "text_split: ['Wlazł', 'kotek', 'na', 'płotek']\n",
      "dlugosci: [5, 5, 2, 6]\n",
      "srednia: 4\n",
      "\n",
      "text: Lorem ipsum dolor sit amet\n",
      "text_split: ['Lorem', 'ipsum', 'dolor', 'sit', 'amet']\n",
      "dlugosci: [5, 5, 5, 3, 4]\n",
      "srednia: 4\n",
      "\n"
     ]
    },
    {
     "data": {
      "text/plain": [
       "(None, None, None)"
      ]
     },
     "execution_count": 14,
     "metadata": {},
     "output_type": "execute_result"
    }
   ],
   "source": [
    "foo2(zd1), foo2(zd2), foo2(zd3)"
   ]
  },
  {
   "cell_type": "markdown",
   "id": "f24ddd7d-afc8-4651-912d-e56fd0a4a532",
   "metadata": {},
   "source": [
    "<br></br>"
   ]
  },
  {
   "cell_type": "code",
   "execution_count": 15,
   "id": "29de3088-f486-4bd1-92a2-9a09d2468a5c",
   "metadata": {},
   "outputs": [],
   "source": [
    "import matplotlib.pyplot as plt\n",
    "import pandas as pd"
   ]
  },
  {
   "cell_type": "code",
   "execution_count": 16,
   "id": "b9723290-6265-4a21-89f2-594c179d73fe",
   "metadata": {},
   "outputs": [],
   "source": [
    "### zad_4"
   ]
  },
  {
   "cell_type": "code",
   "execution_count": 17,
   "id": "7f6b04b2-ee97-4e2e-8521-e57dd6c92381",
   "metadata": {},
   "outputs": [
    {
     "data": {
      "image/png": "[encoded data removed]",
      "text/plain": [
       "<Figure size 640x480 with 1 Axes>"
      ]
     },
     "metadata": {},
     "output_type": "display_data"
    }
   ],
   "source": [
    "df = pd.read_csv('dosw3.csv', sep=';')\n",
    "\n",
    "plt.title('Zmienna od czasu')\n",
    "plt.plot(df['Czas'], df['Zmienna'], 'g--', label='zmienna')\n",
    "plt.legend(loc='upper left')\n",
    "plt.xlabel('czas')\n",
    "plt.ylabel('wartosci zmiennej')\n",
    "plt.savefig('zad_4.png')\n",
    "plt.show()"
   ]
  },
  {
   "cell_type": "markdown",
   "id": "4336cb07-19ca-40c4-83a2-5bd0bcb3b4d4",
   "metadata": {},
   "source": [
    "<br></br>"
   ]
  },
  {
   "cell_type": "code",
   "execution_count": 18,
   "id": "494c0393-692c-4c90-a590-b2f253bdd446",
   "metadata": {},
   "outputs": [],
   "source": [
    "### zad_5"
   ]
  },
  {
   "cell_type": "code",
   "execution_count": 19,
   "id": "b526e07f-351f-4807-9f17-059ad495877c",
   "metadata": {},
   "outputs": [
    {
     "data": {
      "image/png": "[encoded data removed]",
      "text/plain": [
       "<Figure size 640x480 with 2 Axes>"
      ]
     },
     "metadata": {},
     "output_type": "display_data"
    }
   ],
   "source": [
    "df = pd.read_csv('medale.csv', sep=';')\n",
    "\n",
    "suma = df['Złote'] + df['Srebrne'] + df['Brązowe']\n",
    "\n",
    "letnie = suma[df['Rodzaj'] == 'Letnie']\n",
    "zimowe = suma[df['Rodzaj'] == 'Zimowe']\n",
    "\n",
    "letnie_miejsce = df[df['Rodzaj'] == 'Letnie']['Miejsce']\n",
    "zimowe_miejsce = df[df['Rodzaj'] == 'Zimowe']['Miejsce']\n",
    "\n",
    "plt.subplot(2, 1, 1)\n",
    "plt.title('Medale Polski - zimowe olimpiady')\n",
    "plt.bar(zimowe_miejsce, zimowe, color='blue')\n",
    "plt.subplot(2, 1, 2)\n",
    "plt.title('Medale Polski - letnie olimpiady')\n",
    "plt.bar(letnie_miejsce, letnie, color='orange')\n",
    "plt.yticks([0, 2, 4, 6, 8, 10, 12, 14])\n",
    "plt.tight_layout()\n",
    "plt.show()"
   ]
  }
 ],
 "metadata": {
  "kernelspec": {
   "display_name": "Python 3 (ipykernel)",
   "language": "python",
   "name": "python3"
  },
  "language_info": {
   "codemirror_mode": {
    "name": "ipython",
    "version": 3
   },
   "file_extension": ".py",
   "mimetype": "text/x-python",
   "name": "python",
   "nbconvert_exporter": "python",
   "pygments_lexer": "ipython3",
   "version": "3.12.6"
  }
 },
 "nbformat": 4,
 "nbformat_minor": 5
}
