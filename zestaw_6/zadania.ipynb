{
 "cells": [
  {
   "cell_type": "code",
   "execution_count": 1,
   "id": "f0fb1190-16d1-416f-abb5-4f631ef3e072",
   "metadata": {},
   "outputs": [],
   "source": [
    "### zad_1"
   ]
  },
  {
   "cell_type": "code",
   "execution_count": 2,
   "id": "b75e3ef0-db4f-4d0b-aa3d-216ff453597b",
   "metadata": {},
   "outputs": [],
   "source": [
    "def foo(liczba):\n",
    "    liczba = int(liczba)\n",
    "    print(liczba, 'jest typu int: ', isinstance(liczba, int))"
   ]
  },
  {
   "cell_type": "code",
   "execution_count": 3,
   "id": "d6696d6f-0b40-4121-b340-106eeaa6b3eb",
   "metadata": {},
   "outputs": [
    {
     "name": "stdin",
     "output_type": "stream",
     "text": [
      "podaj liczbe:  456\n"
     ]
    },
    {
     "name": "stdout",
     "output_type": "stream",
     "text": [
      "456 jest typu int:  True\n"
     ]
    }
   ],
   "source": [
    "liczba = input('podaj liczbe: ')\n",
    "foo(liczba)456"
   ]
  },
  {
   "cell_type": "markdown",
   "id": "13059360-9689-4eee-821a-eb01fd1af406",
   "metadata": {},
   "source": [
    "<br></br>"
   ]
  },
  {
   "cell_type": "code",
   "execution_count": 4,
   "id": "5f1b69fa-b39b-44d6-a770-1a61b88e3f02",
   "metadata": {},
   "outputs": [],
   "source": [
    "### zad_2"
   ]
  },
  {
   "cell_type": "code",
   "execution_count": 5,
   "id": "a9615b9b-c62d-4ffa-94da-b5fdc07a4393",
   "metadata": {},
   "outputs": [],
   "source": [
    "import math"
   ]
  },
  {
   "cell_type": "code",
   "execution_count": 6,
   "id": "eba71706-91c4-4a25-8d15-d7bb20ef7f94",
   "metadata": {},
   "outputs": [
    {
     "name": "stdin",
     "output_type": "stream",
     "text": [
      "podaj a:  5\n",
      "podaj b:  6\n",
      "podaj c:  7\n",
      "podaj d:  8\n"
     ]
    },
    {
     "data": {
      "text/plain": [
       "(0, 5.731403724294245, 3.0)"
      ]
     },
     "execution_count": 6,
     "metadata": {},
     "output_type": "execute_result"
    }
   ],
   "source": [
    "a = int(input('podaj a: '))\n",
    "b = int(input('podaj b: '))\n",
    "c = int(input('podaj c: '))\n",
    "d = int(input('podaj d: '))\n",
    "\n",
    "op1 = (a * b * c) * (1//8)\n",
    "op2 = math.log(a**3) + math.log10(d)\n",
    "op3 = math.sin(a)**2 + (math.cos(a)**2 + (d // math.sqrt(d)))\n",
    "\n",
    "op1, op2, op3"
   ]
  },
  {
   "cell_type": "markdown",
   "id": "17190ab5-8ee7-4664-a1de-5de10a55df43",
   "metadata": {},
   "source": [
    "<br></br>"
   ]
  },
  {
   "cell_type": "code",
   "execution_count": 7,
   "id": "f5da3490-bc8e-4b92-be1c-f89d7c18e92c",
   "metadata": {},
   "outputs": [],
   "source": [
    "### zad_3"
   ]
  },
  {
   "cell_type": "code",
   "execution_count": 8,
   "id": "b38e42a6-3a9e-4165-ae55-062738cee2fc",
   "metadata": {},
   "outputs": [
    {
     "name": "stdout",
     "output_type": "stream",
     "text": [
      "aaa, aab, aac, aad, aae, aaf, aag, aah, aai, aaj, aak, aal, aam, aan, aao, aap, aaq, aar, aas, aat, aau, aav, aaw, aax, aay, aaz, \n",
      "bba, bbb, bbc, bbd, bbe, bbf, bbg, bbh, bbi, bbj, bbk, bbl, bbm, bbn, bbo, bbp, bbq, bbr, bbs, bbt, bbu, bbv, bbw, bbx, bby, bbz, \n",
      "cca, ccb, ccc, ccd, cce, ccf, ccg, cch, cci, ccj, cck, ccl, ccm, ccn, cco, ccp, ccq, ccr, ccs, cct, ccu, ccv, ccw, ccx, ccy, ccz, \n",
      "dda, ddb, ddc, ddd, dde, ddf, ddg, ddh, ddi, ddj, ddk, ddl, ddm, ddn, ddo, ddp, ddq, ddr, dds, ddt, ddu, ddv, ddw, ddx, ddy, ddz, \n",
      "eea, eeb, eec, eed, eee, eef, eeg, eeh, eei, eej, eek, eel, eem, een, eeo, eep, eeq, eer, ees, eet, eeu, eev, eew, eex, eey, eez, \n",
      "ffa, ffb, ffc, ffd, ffe, fff, ffg, ffh, ffi, ffj, ffk, ffl, ffm, ffn, ffo, ffp, ffq, ffr, ffs, fft, ffu, ffv, ffw, ffx, ffy, ffz, \n",
      "gga, ggb, ggc, ggd, gge, ggf, ggg, ggh, ggi, ggj, ggk, ggl, ggm, ggn, ggo, ggp, ggq, ggr, ggs, ggt, ggu, ggv, ggw, ggx, ggy, ggz, \n",
      "hha, hhb, hhc, hhd, hhe, hhf, hhg, hhh, hhi, hhj, hhk, hhl, hhm, hhn, hho, hhp, hhq, hhr, hhs, hht, hhu, hhv, hhw, hhx, hhy, hhz, \n",
      "iia, iib, iic, iid, iie, iif, iig, iih, iii, iij, iik, iil, iim, iin, iio, iip, iiq, iir, iis, iit, iiu, iiv, iiw, iix, iiy, iiz, \n",
      "jja, jjb, jjc, jjd, jje, jjf, jjg, jjh, jji, jjj, jjk, jjl, jjm, jjn, jjo, jjp, jjq, jjr, jjs, jjt, jju, jjv, jjw, jjx, jjy, jjz, \n",
      "kka, kkb, kkc, kkd, kke, kkf, kkg, kkh, kki, kkj, kkk, kkl, kkm, kkn, kko, kkp, kkq, kkr, kks, kkt, kku, kkv, kkw, kkx, kky, kkz, \n",
      "lla, llb, llc, lld, lle, llf, llg, llh, lli, llj, llk, lll, llm, lln, llo, llp, llq, llr, lls, llt, llu, llv, llw, llx, lly, llz, \n",
      "mma, mmb, mmc, mmd, mme, mmf, mmg, mmh, mmi, mmj, mmk, mml, mmm, mmn, mmo, mmp, mmq, mmr, mms, mmt, mmu, mmv, mmw, mmx, mmy, mmz, \n",
      "nna, nnb, nnc, nnd, nne, nnf, nng, nnh, nni, nnj, nnk, nnl, nnm, nnn, nno, nnp, nnq, nnr, nns, nnt, nnu, nnv, nnw, nnx, nny, nnz, \n",
      "ooa, oob, ooc, ood, ooe, oof, oog, ooh, ooi, ooj, ook, ool, oom, oon, ooo, oop, ooq, oor, oos, oot, oou, oov, oow, oox, ooy, ooz, \n",
      "ppa, ppb, ppc, ppd, ppe, ppf, ppg, pph, ppi, ppj, ppk, ppl, ppm, ppn, ppo, ppp, ppq, ppr, pps, ppt, ppu, ppv, ppw, ppx, ppy, ppz, \n",
      "qqa, qqb, qqc, qqd, qqe, qqf, qqg, qqh, qqi, qqj, qqk, qql, qqm, qqn, qqo, qqp, qqq, qqr, qqs, qqt, qqu, qqv, qqw, qqx, qqy, qqz, \n",
      "rra, rrb, rrc, rrd, rre, rrf, rrg, rrh, rri, rrj, rrk, rrl, rrm, rrn, rro, rrp, rrq, rrr, rrs, rrt, rru, rrv, rrw, rrx, rry, rrz, \n",
      "ssa, ssb, ssc, ssd, sse, ssf, ssg, ssh, ssi, ssj, ssk, ssl, ssm, ssn, sso, ssp, ssq, ssr, sss, sst, ssu, ssv, ssw, ssx, ssy, ssz, \n",
      "tta, ttb, ttc, ttd, tte, ttf, ttg, tth, tti, ttj, ttk, ttl, ttm, ttn, tto, ttp, ttq, ttr, tts, ttt, ttu, ttv, ttw, ttx, tty, ttz, \n",
      "uua, uub, uuc, uud, uue, uuf, uug, uuh, uui, uuj, uuk, uul, uum, uun, uuo, uup, uuq, uur, uus, uut, uuu, uuv, uuw, uux, uuy, uuz, \n",
      "vva, vvb, vvc, vvd, vve, vvf, vvg, vvh, vvi, vvj, vvk, vvl, vvm, vvn, vvo, vvp, vvq, vvr, vvs, vvt, vvu, vvv, vvw, vvx, vvy, vvz, \n",
      "wwa, wwb, wwc, wwd, wwe, wwf, wwg, wwh, wwi, wwj, wwk, wwl, wwm, wwn, wwo, wwp, wwq, wwr, wws, wwt, wwu, wwv, www, wwx, wwy, wwz, \n",
      "xxa, xxb, xxc, xxd, xxe, xxf, xxg, xxh, xxi, xxj, xxk, xxl, xxm, xxn, xxo, xxp, xxq, xxr, xxs, xxt, xxu, xxv, xxw, xxx, xxy, xxz, \n",
      "yya, yyb, yyc, yyd, yye, yyf, yyg, yyh, yyi, yyj, yyk, yyl, yym, yyn, yyo, yyp, yyq, yyr, yys, yyt, yyu, yyv, yyw, yyx, yyy, yyz, \n",
      "zza, zzb, zzc, zzd, zze, zzf, zzg, zzh, zzi, zzj, zzk, zzl, zzm, zzn, zzo, zzp, zzq, zzr, zzs, zzt, zzu, zzv, zzw, zzx, zzy, zzz, \n"
     ]
    }
   ],
   "source": [
    "import string\n",
    "\n",
    "dict = string.ascii_lowercase\n",
    "\n",
    "for letter in dict:\n",
    "    for x in range(len(dict)):\n",
    "        print(letter+letter+string.ascii_lowercase[x]+', ', end='')\n",
    "    print('')"
   ]
  },
  {
   "cell_type": "markdown",
   "id": "e341cd51-9c31-4355-b0fe-6e7af0ec2447",
   "metadata": {},
   "source": [
    "<br></br>"
   ]
  },
  {
   "cell_type": "code",
   "execution_count": 9,
   "id": "0922c622-6d4b-4b9e-b55b-8cb11f9e6734",
   "metadata": {},
   "outputs": [],
   "source": [
    "### zad_4"
   ]
  },
  {
   "cell_type": "code",
   "execution_count": 10,
   "id": "3e7eee32-6a2e-4478-931c-a61f50373da8",
   "metadata": {},
   "outputs": [],
   "source": [
    "import numpy as np\n",
    "import pandas as pd\n",
    "import matplotlib.pyplot as plt"
   ]
  },
  {
   "cell_type": "code",
   "execution_count": 11,
   "id": "9c750094-9247-4cf1-b422-ac62d8ce7ce0",
   "metadata": {},
   "outputs": [
    {
     "data": {
      "image/png": "[encoded data removed]",
      "text/plain": [
       "<Figure size 640x480 with 1 Axes>"
      ]
     },
     "metadata": {},
     "output_type": "display_data"
    }
   ],
   "source": [
    "df = pd.read_csv('dosw6.csv', sep=';')\n",
    "\n",
    "plt.title('wykres')\n",
    "plt.plot(df['Czas'], df['Zmienna'], 'r-.', label='zmienna')\n",
    "plt.xlim(2, 8)\n",
    "plt.ylim(9, 12)\n",
    "plt.legend()\n",
    "plt.annotate(\"12345\", [8, 9])\n",
    "plt.xlabel('czas')\n",
    "plt.show()"
   ]
  },
  {
   "cell_type": "markdown",
   "id": "7c526c34-e421-4ff0-976f-b20d98af6297",
   "metadata": {},
   "source": [
    "<br></br>"
   ]
  },
  {
   "cell_type": "code",
   "execution_count": 12,
   "id": "d7543102-cc9b-4455-a3c4-ba2326fbd355",
   "metadata": {},
   "outputs": [],
   "source": [
    "### zad_5"
   ]
  },
  {
   "cell_type": "code",
   "execution_count": 13,
   "id": "1d99db0c-64ad-4960-b174-1a33ab3813ae",
   "metadata": {},
   "outputs": [],
   "source": [
    "import matplotlib.pyplot as plt\n",
    "import numpy as np\n",
    "import pandas as pd"
   ]
  },
  {
   "cell_type": "code",
   "execution_count": 14,
   "id": "f4656876-4755-4903-ba9d-04465cf1b1ac",
   "metadata": {},
   "outputs": [
    {
     "data": {
      "image/png": "[encoded data removed]",
      "text/plain": [
       "<Figure size 640x480 with 2 Axes>"
      ]
     },
     "metadata": {},
     "output_type": "display_data"
    }
   ],
   "source": [
    "df = pd.read_csv('sport6.csv', sep='_')\n",
    "\n",
    "m = df[df['Płeć'] == 'M']\n",
    "k = df[df['Płeć'] == 'K']\n",
    "\n",
    "color1 = [np.random.rand(3) for i in range(len(m.index))]\n",
    "color2 = [np.random.rand(3) for i in range(len(k.index))]\n",
    "\n",
    "plt.subplot(2, 1, 1)\n",
    "plt.title('Mężczyźni')\n",
    "plt.bar(m['Sport'], m['Popularność'], color=color1)\n",
    "plt.ylim(0, 60)\n",
    "\n",
    "plt.subplot(2, 1, 2)\n",
    "plt.title('Kobiety')\n",
    "plt.bar(k['Sport'], k['Popularność'], color=color2)\n",
    "plt.ylim(0, 60)\n",
    "plt.tight_layout()\n",
    "plt.show()"
   ]
  }
 ],
 "metadata": {
  "kernelspec": {
   "display_name": "Python 3 (ipykernel)",
   "language": "python",
   "name": "python3"
  },
  "language_info": {
   "codemirror_mode": {
    "name": "ipython",
    "version": 3
   },
   "file_extension": ".py",
   "mimetype": "text/x-python",
   "name": "python",
   "nbconvert_exporter": "python",
   "pygments_lexer": "ipython3",
   "version": "3.12.6"
  }
 },
 "nbformat": 4,
 "nbformat_minor": 5
}
